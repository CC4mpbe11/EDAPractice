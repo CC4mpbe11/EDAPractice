{
  "nbformat": 4,
  "nbformat_minor": 0,
  "metadata": {
    "colab": {
      "provenance": [],
      "authorship_tag": "ABX9TyN6LfRmu+GovdAmZVjRoZyM",
      "include_colab_link": true
    },
    "kernelspec": {
      "name": "python3",
      "display_name": "Python 3"
    },
    "language_info": {
      "name": "python"
    }
  },
  "cells": [
    {
      "cell_type": "markdown",
      "metadata": {
        "id": "view-in-github",
        "colab_type": "text"
      },
      "source": [
        "<a href=\"https://colab.research.google.com/github/CC4mpbe11/EDAPractice/blob/Colab-Notebook/eda_and_feature_selection_practice.ipynb\" target=\"_parent\"><img src=\"https://colab.research.google.com/assets/colab-badge.svg\" alt=\"Open In Colab\"/></a>"
      ]
    },
    {
      "cell_type": "code",
      "execution_count": null,
      "metadata": {
        "id": "_Y-VQT-J7Uc-"
      },
      "outputs": [],
      "source": [
        "pip install -q sklearn"
      ]
    },
    {
      "cell_type": "code",
      "source": [
        "pip install -q  keras"
      ],
      "metadata": {
        "id": "45bwpUSh7lpO"
      },
      "execution_count": null,
      "outputs": []
    },
    {
      "cell_type": "code",
      "source": [
        "from __future__ import absolute_import, division, print_function, unicode_literals\n",
        "from six.moves import urllib\n",
        "from IPython.display import clear_output\n",
        "from google.colab import files\n",
        "from google.colab import drive\n",
        "from sklearn.model_selection import train_test_split\n",
        "from sklearn.model_selection import cross_val_score\n",
        "from sklearn.linear_model import LogisticRegression\n",
        "from scipy.stats import chi2_contingency\n",
        "from pathlib import Path  \n",
        "\n",
        "import io\n",
        "import tensorflow as tf\n",
        "import matplotlib.pyplot as plt\n",
        "import numpy as np\n",
        "import pandas as pd\n",
        "import tensorflow.compat.v2.feature_column as fc\n",
        "import seaborn as sns"
      ],
      "metadata": {
        "id": "OF_x1ezh7rzd"
      },
      "execution_count": null,
      "outputs": []
    },
    {
      "cell_type": "code",
      "source": [
        "# Load dataset.\n",
        "data = files.upload()\n",
        "#dftrain = pd.read_csv('https://www.kaggle.com/datasets/devzohaib/mushroom-edibility-classification?select=secondary_data.csv') # training data\n",
        "#dfeval = pd.read_csv('https://www.kaggle.com/datasets/devzohaib/mushroom-edibility-classification?select=secondary_data.csv') # testing data\n",
        "#y_train = dftrain.pop('class')\n",
        "#y_eval = dfeval.pop('class')"
      ],
      "metadata": {
        "id": "ZJUVF8Xv7wjr"
      },
      "execution_count": null,
      "outputs": []
    },
    {
      "cell_type": "code",
      "source": [
        "df = pd.read_csv(io.StringIO(data['mushroom_edibility_commas.csv'].decode('utf-8')))"
      ],
      "metadata": {
        "id": "goCzj5JJ7y4I"
      },
      "execution_count": null,
      "outputs": []
    },
    {
      "cell_type": "code",
      "source": [
        "drive.mount('/content/drive')"
      ],
      "metadata": {
        "id": "SlnIU8_7-R54"
      },
      "execution_count": null,
      "outputs": []
    },
    {
      "cell_type": "code",
      "source": [
        "# Save\n",
        "\n",
        "mushroom_data_fs_path = Path('/content/drive/MyDrive/Mushroom Data/mushroom_data_fs.csv')\n",
        "mushroom_data_fs_path.parent.mkdir(parents=True, exist_ok=True)\n",
        "mushroom_data_fs.to_csv(mushroom_data_fs_path, index=False) "
      ],
      "metadata": {
        "id": "M63J6fLm-Ex7"
      },
      "execution_count": null,
      "outputs": []
    },
    {
      "cell_type": "code",
      "source": [
        "# Load\n",
        "\n",
        "mushroom_data_fs_path = Path('/content/drive/MyDrive/Datasets/Mushroom Data/mushroom_data_fs.csv')\n",
        "mushroom_data_fs = pd.read_csv(mushroom_data_fs_path) "
      ],
      "metadata": {
        "id": "4Sii_jPn-Lzq"
      },
      "execution_count": null,
      "outputs": []
    },
    {
      "cell_type": "code",
      "execution_count": null,
      "metadata": {
        "id": "vCoFbdDx6Qix"
      },
      "outputs": [],
      "source": [
        "# Load\n",
        "\n",
        "mushroom_data_path = Path('/content/drive/MyDrive/Datasets/Mushroom Data/mushroom_data.csv')\n",
        "mushroom_data = pd.read_csv(mushroom_data_path) "
      ]
    },
    {
      "cell_type": "code",
      "source": [
        "# EDA and Feature Selection\n",
        "\n",
        "\n",
        "# How many null values in each column. \n",
        "# What does null mean for each feature? \n",
        "# Do nulls indicate lack of information?\n",
        "# Consider dropping feature columns.\n",
        "# Check using heat map if specific records with many nulls can be dropped.\n",
        "\n",
        "# Decide on other methods of handling nulls like means/medians/modes\n",
        "# Decide on making \"unknown\" a category to replace nulls in some feature columns.\n",
        "# Consider predicting values for nulls\n",
        "# Consider KNN, the Nearest neighbor algorithm for dealing with nulls\n",
        "\n",
        "# Univariate Analysis - Histogram for metric features, and Bar Chart for nominal features. Is variance low or high?\n",
        "\n",
        "# Correlation Analysis - Check for multicollinearity with heat map. Look for correlations.\n",
        "\n",
        "# Bivariate Analysis - using Box Plot and Grouped Bar Chart.\n",
        "  # use grouped bar chart to plot each category variable against the target label.\n",
        "  # use box plot to analyze the degree of variance between-group compared to within-group.\n",
        "\n",
        "# consider filter methods(based on chi-square, ANVOA and mutual information), and wrapper methods(based on forward selection and backward elimination)\n",
        "\n",
        "# Correlation between\n",
        "  # A continuous and a categorical variable: point biserial correlation\n",
        "  # Two Binary Variables: Tetrachoric correlation based on contingency table analysis\n",
        "  # Two Ordinal categorical variables: polychoric correlation\n",
        "  # Two Nominal Variables: Cramers V\n",
        "\n",
        "\n",
        "#nanlist = []\n",
        "\n",
        "#nanlist.append(df['edibility'].isna().sum()) #0 nulls\n",
        "#df['edibility'].value_counts().plot(kind='bar')\n",
        "\n",
        "#nanlist.append(df['cap-diameter'].isna().sum()) #0 nulls\n",
        "#sns.scatterplot(x=df.index, y = df['cap-diameter'],hue=df['edibility']) # pattern discovered here of many mushrooms with higher cap diameter that are all edible\n",
        "#sns.scatterplot(x=df.index, y = df['cap-diameter'],hue=df['habitat'])\n",
        "#sns.scatterplot(x=df.index, y = df['cap-diameter'],hue=df['season']) # good variance. large cap diameter shroom are all the same season. likely all one mushroom in a specific index threshold\n",
        "#sns.scatterplot(x=df.index, y = df['cap-diameter'],hue=df['cap-shape']) # good variance. Same pattern as above. Likely same mushroom\n",
        "#sns.scatterplot(x=df.index, y = df['cap-diameter'],hue=df['cap-color']) # good variance\n",
        "#sns.histplot(data=df, x='cap-diameter')\n",
        "\n",
        "#nanlist.append(df['cap-shape'].isna().sum()) #0 nulls\n",
        "#df['cap-shape'].value_counts().plot(kind='bar') #decent variance\n",
        "\n",
        "\n",
        "#nanlist.append(df['cap-surface'].isna().sum()) #14120 nulls\n",
        "#df['cap-surface'].value_counts().plot(kind='hist') # very good variance\n",
        "#print(df['cap-surface'].value_counts(dropna=False))\n",
        "#NaN    14120\n",
        "#t       8196\n",
        "#s       7608\n",
        "#y       6341\n",
        "#h       4974\n",
        "#g       4724\n",
        "#d       4432\n",
        "#e       2584\n",
        "#k       2303\n",
        "#i       2225\n",
        "#w       2150\n",
        "#l       1412\n",
        "#look for correlation with stem-surface\n",
        "\n",
        "#nanlist.append(df['cap-color'].isna().sum()) #0 nulls\n",
        "#df['cap-color'].value_counts().plot(kind='bar') # decent variance\n",
        "\n",
        "#nanlist.append(df['does-bruise-or-bleed'].isna().sum()) #0 nulls\n",
        "#df['does-bruise-or-bleed'].value_counts().plot(kind='bar') # poor variance\n",
        "\n",
        "#nanlist.append(df['gill-attachment'].isna().sum()) #9884 nulls\n",
        "#df['gill-attachment'].value_counts().plot(kind='bar') #good variance\n",
        "#possibly create \"unknown\" category to preserve information\n",
        "\n",
        "#nanlist.append(df['gill-spacing'].isna().sum()) #25063 nulls\n",
        "#drop this feature in first model\n",
        "#print(df['gill-spacing'].value_counts(dropna=False))\n",
        "#NaN    25063\n",
        "#c      24710\n",
        "#d       7766\n",
        "#f       3530\n",
        "#null seems to signify unknown gill spacing\n",
        "#lack of variance if new category were to have been created\n",
        "\n",
        "#nanlist.append(df['gill-color'].isna().sum()) #0 nulls\n",
        "#f['gill-color'].value_counts().plot(kind='bar') # decent variance\n",
        "\n",
        "#nanlist.append(df['stem-height'].isna().sum()) #0 nulls\n",
        "#df['stem-height'].value_counts().plot(kind='hist') #poor variance\n",
        "#fig, axes = plt.subplots(2, 3, figsize=(18, 10))\n",
        "#fig.suptitle('Mushroom stem height by category')\n",
        "\n",
        "#sns.catplot(ax=axes[0, 0], data=df, x='edibility', y='stem-height')\n",
        "#sns.displot(ax=axes[0, 0], data=df, x='edibility', y='stem-height')\n",
        "#sns.histplot(ax=axes[0, 0], data=df, x='edibility', y='stem-height')\n",
        "#sns.stripplot(ax=axes[0, 0], data=df, x='edibility', y='stem-height')\n",
        "#sns.boxplot(ax=axes[0, 0], data=df, x='edibility', y='stem-height')\n",
        "#sns.boxplot(ax=axes[0, 1], data=df, x='habitat', y='stem-height')\n",
        "#sns.boxplot(ax=axes[0, 2], data=df, x='season', y='stem-height')\n",
        "#sns.boxplot(ax=axes[1, 0], data=df, x='cap-shape', y='stem-height')\n",
        "#sns.boxplot(ax=axes[1, 1], data=df, x='cap-color', y='stem-height')\n",
        "\n",
        "#nanlist.append(df['stem-width'].isna().sum()) #0 nulls\n",
        "#sns.histplot(data=df, x='stem-width')\n",
        "#df['stem-width'].value_counts().plot(kind='hist', bins=5)\n",
        "\n",
        "#nanlist.append(df['stem-root'].isna().sum()) #51538\n",
        "#drop this feature in first model\n",
        "#print(df['stem-root'].value_counts(dropna=False))\n",
        "#NaN    51538\n",
        "#s       3177\n",
        "#b       3177\n",
        "#r       1412\n",
        "#f       1059\n",
        "#c        706\n",
        "#null seems to signify unknown stem root type\n",
        "#lack of variance if new category were to have been created\n",
        "\n",
        "#nanlist.append(df['stem-surface'].isna().sum()) #38124 \n",
        "#drop this feature in first model\n",
        "#print(df['stem-surface'].value_counts(dropna=False))\n",
        "#NaN    38124\n",
        "#s       6025\n",
        "#y       4940\n",
        "#i       4396\n",
        "#t       2644\n",
        "#g       1765\n",
        "#k       1581\n",
        "#f       1059\n",
        "#h        535\n",
        "#look for correlation with stem-surface\n",
        "\n",
        "#nanlist.append(df['stem-color'].isna().sum()) #0 nulls\n",
        "#df['stem-color'].value_counts().plot(kind='bar')\n",
        "\n",
        "#nanlist.append(df['veil-type'].isna().sum()) #57892 nulls\n",
        "#drop this feature in first model\n",
        "#print(df['veil-type'].value_counts(dropna=False))\n",
        "#NaN    57892\n",
        "#u       3177\n",
        "#null seems to signify unknown veil type\n",
        "#lack of variance if new category were to have been created\n",
        "\n",
        "#nanlist.append(df['veil-color'].isna().sum()) #53656 nulls\n",
        "#drop this feature in first model\n",
        "#print(df['veil-color'].value_counts(dropna=False))\n",
        "#NaN    53656\n",
        "#w       5474\n",
        "#y        527\n",
        "#n        525\n",
        "#u        353\n",
        "#k        353\n",
        "#e        181\n",
        "#null may signify a white veil... nevermind, it doesnt\n",
        "#lack of variance if new category were to have been created\n",
        "\n",
        "\n",
        "#nanlist.append(df['has-ring'].isna().sum()) #0 nulls\n",
        "#df['has-ring'].value_counts().plot(kind='bar')\n",
        "\n",
        "#nanlist.append(df['ring-type'].isna().sum()) #2471 nulls\n",
        "#df['ring-type'].value_counts().plot(kind='bar')\n",
        "#print(df['ring-type'].value_counts(dropna=False))\n",
        "#f      48361\n",
        "#NaN     2471\n",
        "#e       2435\n",
        "#z       2118\n",
        "#l       1427\n",
        "#r       1399\n",
        "#p       1265\n",
        "#g       1240\n",
        "#m        353\n",
        "#possibly create \"unknown\" category to preserve information\n",
        "\n",
        "#nanlist.append(df['spore-print-color'].isna().sum()) #54715 nulls\n",
        "#drop this feature in first model\n",
        "#print(df['spore-print-color'].value_counts(dropna=False))\n",
        "#NaN    54715\n",
        "#k       2118\n",
        "#p       1259\n",
        "#w       1212\n",
        "#n       1059\n",
        "#g        353\n",
        "#u        182\n",
        "#r        171\n",
        "#look for correlation with cap-color\n",
        "#lack of variance if new category were to have been created\n",
        "\n",
        "#nanlist.append(df['habitat'].isna().sum()) #0 nulls\n",
        "#df['habitat'].value_counts().plot(kind='bar')\n",
        "\n",
        "#nanlist.append(df['season'].isna().sum()) #0 nulls\n",
        "#df['season'].value_counts().plot(kind='bar')\n",
        "#print(nanlist)"
      ],
      "metadata": {
        "id": "AJclUXxn7y8y"
      },
      "execution_count": null,
      "outputs": []
    },
    {
      "cell_type": "code",
      "source": [
        "y = df[['cap-diameter'\n",
        "          'cap-shape',\n",
        "          'cap-surface',\n",
        "          'cap-color',\n",
        "          'does-bruise-or-bleed',\n",
        "          'gill-attachment',\n",
        "          'gill-color',\n",
        "          'stem-height',\n",
        "          'stem-width',\n",
        "          'stem-color',\n",
        "          'has-ring',\n",
        "          'ring-type',\n",
        "          'habitat',\n",
        "          'season']] \n",
        "\n",
        "#'cap-diameter', #\n",
        "#'cap-shape', #\n",
        "#'cap-surface', # new category\n",
        "#'cap-color', #\n",
        "#'does-bruise-or-bleed', #\n",
        "#'gill-attachment', # new category\n",
        "#'gill-spacing', # drop\n",
        "#'gill-color', #\n",
        "#'stem-height', #\n",
        "#'stem-width', #\n",
        "#'stem-root', # drop\n",
        "#'stem-surface', # drop\n",
        "#'stem-color', #\n",
        "#'veil-type', # drop\n",
        "#'veil-color', # drop\n",
        "#'has-ring', #\n",
        "#'ring-type', # new category\n",
        "#'spore-print-color', # drop\n",
        "#'habitat', #\n",
        "#'season' #\n",
        "\n",
        "y[\"cap-surface\"].fillna(\"n\", inplace = True)\n",
        "y[\"gill-attachment\"].fillna(\"n\", inplace = True)\n",
        "y[\"ring-type\"].fillna(\"n\", inplace = True)"
      ],
      "metadata": {
        "id": "-YMjmIVY8dWr"
      },
      "execution_count": null,
      "outputs": []
    },
    {
      "cell_type": "code",
      "source": [
        "y_categorical = df[['cap-shape',\n",
        "                    'cap-surface',\n",
        "                    'cap-color',\n",
        "                    'does-bruise-or-bleed',\n",
        "                    'gill-attachment',\n",
        "                    'gill-color',\n",
        "                    'stem-color',\n",
        "                    'has-ring',\n",
        "                    'ring-type',\n",
        "                    'habitat',\n",
        "                    'season']]\n",
        "y_categorical.head()"
      ],
      "metadata": {
        "id": "FUuqAR5p8Rzf"
      },
      "execution_count": null,
      "outputs": []
    },
    {
      "cell_type": "code",
      "source": [
        "y.corr()\n",
        "sns.heatmap(df.corr()) #cap diameter and stem width correlate."
      ],
      "metadata": {
        "id": "rPDdszLB75o5"
      },
      "execution_count": null,
      "outputs": []
    },
    {
      "cell_type": "code",
      "source": [
        "def cramersV(var1,var2) :\n",
        "  crosstab = np.array(pd.crosstab(var1,var2, rownames=None, colnames=None))\n",
        "  stat = chi2_contingency(crosstab)[0]\n",
        "  obs = np.sum(crosstab)\n",
        "  mini = min(crosstab.shape)\n",
        "  return (stat/(obs*mini))"
      ],
      "metadata": {
        "id": "4GNWrG208xxB"
      },
      "execution_count": null,
      "outputs": []
    },
    {
      "cell_type": "code",
      "source": [
        "rows = []\n",
        "\n",
        "for var1 in y_categorical:\n",
        "  col = []\n",
        "  for var2 in y_categorical :\n",
        "    cramers = cramersV(y_categorical[var1], y_categorical[var2])\n",
        "    col.append(round(cramers, 2))\n",
        "  rows.append(col)\n",
        "\n",
        "cramers_results = np.array(rows)\n",
        "cramersresults = pd.DataFrame(cramers_results, columns = y_categorical.columns, index = y_categorical.columns)"
      ],
      "metadata": {
        "id": "JQI0vu3H80GW"
      },
      "execution_count": null,
      "outputs": []
    },
    {
      "cell_type": "code",
      "source": [
        "data = np.random.randint(low=1, high=100, size=(11,11))\n",
        "\n",
        "cathm = sns.heatmap(data=cramersresults)\n",
        "\n",
        "plt.show"
      ],
      "metadata": {
        "id": "OySxpFVt82v2"
      },
      "execution_count": null,
      "outputs": []
    }
  ]
}